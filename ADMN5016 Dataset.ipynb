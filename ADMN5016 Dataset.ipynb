{
 "cells": [
  {
   "cell_type": "code",
   "execution_count": 1,
   "id": "c1b65b34",
   "metadata": {},
   "outputs": [
    {
     "name": "stdout",
     "output_type": "stream",
     "text": [
      "Requirement already satisfied: xlrd in c:\\users\\13432\\anaconda3\\lib\\site-packages (2.0.1)\n"
     ]
    }
   ],
   "source": [
    "!pip install xlrd"
   ]
  },
  {
   "cell_type": "code",
   "execution_count": 2,
   "id": "7f44488a",
   "metadata": {},
   "outputs": [],
   "source": [
    "import pandas as pd\n",
    "import zipfile"
   ]
  },
  {
   "cell_type": "code",
   "execution_count": 9,
   "id": "6720ad26",
   "metadata": {},
   "outputs": [],
   "source": [
    "zf = zipfile.ZipFile(\"C:/Users/13432/Downloads/Perfume_Dataset.zip\")"
   ]
  },
  {
   "cell_type": "code",
   "execution_count": 10,
   "id": "27a255e4",
   "metadata": {},
   "outputs": [
    {
     "data": {
      "text/plain": [
       "['perfume_data.csv', 'testing in rows.xls']"
      ]
     },
     "execution_count": 10,
     "metadata": {},
     "output_type": "execute_result"
    }
   ],
   "source": [
    "zf.namelist()"
   ]
  },
  {
   "cell_type": "code",
   "execution_count": 11,
   "id": "dcc775c5",
   "metadata": {},
   "outputs": [],
   "source": [
    "df = pd.read_csv(zf.open('perfume_data.csv'))"
   ]
  },
  {
   "cell_type": "code",
   "execution_count": 12,
   "id": "7e7a084f",
   "metadata": {},
   "outputs": [
    {
     "data": {
      "text/html": [
       "<div>\n",
       "<style scoped>\n",
       "    .dataframe tbody tr th:only-of-type {\n",
       "        vertical-align: middle;\n",
       "    }\n",
       "\n",
       "    .dataframe tbody tr th {\n",
       "        vertical-align: top;\n",
       "    }\n",
       "\n",
       "    .dataframe thead th {\n",
       "        text-align: right;\n",
       "    }\n",
       "</style>\n",
       "<table border=\"1\" class=\"dataframe\">\n",
       "  <thead>\n",
       "    <tr style=\"text-align: right;\">\n",
       "      <th></th>\n",
       "      <th>ajayeb</th>\n",
       "      <th>64,558</th>\n",
       "      <th>64,556</th>\n",
       "      <th>64,543</th>\n",
       "      <th>64,543.1</th>\n",
       "      <th>64,541</th>\n",
       "      <th>64,543.2</th>\n",
       "      <th>64,543.3</th>\n",
       "      <th>64,541.1</th>\n",
       "      <th>64,541.2</th>\n",
       "      <th>...</th>\n",
       "      <th>64,541.8</th>\n",
       "      <th>64,541.9</th>\n",
       "      <th>64,541.10</th>\n",
       "      <th>64,541.11</th>\n",
       "      <th>64,541.12</th>\n",
       "      <th>64,541.13</th>\n",
       "      <th>64,528.2</th>\n",
       "      <th>64,528.3</th>\n",
       "      <th>64,528.4</th>\n",
       "      <th>64,528.5</th>\n",
       "    </tr>\n",
       "  </thead>\n",
       "  <tbody>\n",
       "    <tr>\n",
       "      <th>0</th>\n",
       "      <td>ajmal</td>\n",
       "      <td>60,502</td>\n",
       "      <td>60,489</td>\n",
       "      <td>61,485</td>\n",
       "      <td>60,487</td>\n",
       "      <td>61,485</td>\n",
       "      <td>61,513</td>\n",
       "      <td>60,515</td>\n",
       "      <td>60,500</td>\n",
       "      <td>60,500</td>\n",
       "      <td>...</td>\n",
       "      <td>60,472</td>\n",
       "      <td>60,472</td>\n",
       "      <td>60,461</td>\n",
       "      <td>61,470</td>\n",
       "      <td>60,487</td>\n",
       "      <td>60,487</td>\n",
       "      <td>61,485</td>\n",
       "      <td>60,487</td>\n",
       "      <td>60,472</td>\n",
       "      <td>60,472</td>\n",
       "    </tr>\n",
       "    <tr>\n",
       "      <th>1</th>\n",
       "      <td>amreaj</td>\n",
       "      <td>57,040</td>\n",
       "      <td>57,040</td>\n",
       "      <td>57,040</td>\n",
       "      <td>58,041</td>\n",
       "      <td>58,041</td>\n",
       "      <td>58,041</td>\n",
       "      <td>58,041</td>\n",
       "      <td>57,042</td>\n",
       "      <td>57,042</td>\n",
       "      <td>...</td>\n",
       "      <td>58,041</td>\n",
       "      <td>58,041</td>\n",
       "      <td>58,041</td>\n",
       "      <td>58,041</td>\n",
       "      <td>58,041</td>\n",
       "      <td>58,041</td>\n",
       "      <td>58,041</td>\n",
       "      <td>58,041</td>\n",
       "      <td>58,041</td>\n",
       "      <td>58,041</td>\n",
       "    </tr>\n",
       "    <tr>\n",
       "      <th>2</th>\n",
       "      <td>aood</td>\n",
       "      <td>71,083</td>\n",
       "      <td>72,087</td>\n",
       "      <td>71,091</td>\n",
       "      <td>71,095</td>\n",
       "      <td>71,099</td>\n",
       "      <td>72,103</td>\n",
       "      <td>71,099</td>\n",
       "      <td>72,099</td>\n",
       "      <td>72,099</td>\n",
       "      <td>...</td>\n",
       "      <td>72,095</td>\n",
       "      <td>71,095</td>\n",
       "      <td>71,095</td>\n",
       "      <td>72,103</td>\n",
       "      <td>71,103</td>\n",
       "      <td>71,103</td>\n",
       "      <td>71,103</td>\n",
       "      <td>72,103</td>\n",
       "      <td>72,103</td>\n",
       "      <td>72,098</td>\n",
       "    </tr>\n",
       "    <tr>\n",
       "      <th>3</th>\n",
       "      <td>asgar_ali</td>\n",
       "      <td>68,209</td>\n",
       "      <td>68,209</td>\n",
       "      <td>68,216</td>\n",
       "      <td>68,216</td>\n",
       "      <td>68,223</td>\n",
       "      <td>68,223</td>\n",
       "      <td>68,223</td>\n",
       "      <td>68,223</td>\n",
       "      <td>68,230</td>\n",
       "      <td>...</td>\n",
       "      <td>68,230</td>\n",
       "      <td>67,224</td>\n",
       "      <td>67,217</td>\n",
       "      <td>67,217</td>\n",
       "      <td>68,223</td>\n",
       "      <td>68,223</td>\n",
       "      <td>68,223</td>\n",
       "      <td>68,223</td>\n",
       "      <td>68,223</td>\n",
       "      <td>68,230</td>\n",
       "    </tr>\n",
       "    <tr>\n",
       "      <th>4</th>\n",
       "      <td>bukhoor</td>\n",
       "      <td>71,046</td>\n",
       "      <td>71,046</td>\n",
       "      <td>71,046</td>\n",
       "      <td>71,046</td>\n",
       "      <td>71,046</td>\n",
       "      <td>71,046</td>\n",
       "      <td>71,046</td>\n",
       "      <td>71,046</td>\n",
       "      <td>71,046</td>\n",
       "      <td>...</td>\n",
       "      <td>70,049</td>\n",
       "      <td>70,049</td>\n",
       "      <td>70,049</td>\n",
       "      <td>70,048</td>\n",
       "      <td>70,049</td>\n",
       "      <td>70,048</td>\n",
       "      <td>70,046</td>\n",
       "      <td>70,046</td>\n",
       "      <td>70,048</td>\n",
       "      <td>71,048</td>\n",
       "    </tr>\n",
       "  </tbody>\n",
       "</table>\n",
       "<p>5 rows × 29 columns</p>\n",
       "</div>"
      ],
      "text/plain": [
       "      ajayeb  64,558  64,556  64,543 64,543.1  64,541 64,543.2 64,543.3  \\\n",
       "0      ajmal  60,502  60,489  61,485   60,487  61,485   61,513   60,515   \n",
       "1     amreaj  57,040  57,040  57,040   58,041  58,041   58,041   58,041   \n",
       "2       aood  71,083  72,087  71,091   71,095  71,099   72,103   71,099   \n",
       "3  asgar_ali  68,209  68,209  68,216   68,216  68,223   68,223   68,223   \n",
       "4    bukhoor  71,046  71,046  71,046   71,046  71,046   71,046   71,046   \n",
       "\n",
       "  64,541.1 64,541.2  ... 64,541.8 64,541.9 64,541.10 64,541.11 64,541.12  \\\n",
       "0   60,500   60,500  ...   60,472   60,472    60,461    61,470    60,487   \n",
       "1   57,042   57,042  ...   58,041   58,041    58,041    58,041    58,041   \n",
       "2   72,099   72,099  ...   72,095   71,095    71,095    72,103    71,103   \n",
       "3   68,223   68,230  ...   68,230   67,224    67,217    67,217    68,223   \n",
       "4   71,046   71,046  ...   70,049   70,049    70,049    70,048    70,049   \n",
       "\n",
       "  64,541.13 64,528.2 64,528.3 64,528.4 64,528.5  \n",
       "0    60,487   61,485   60,487   60,472   60,472  \n",
       "1    58,041   58,041   58,041   58,041   58,041  \n",
       "2    71,103   71,103   72,103   72,103   72,098  \n",
       "3    68,223   68,223   68,223   68,223   68,230  \n",
       "4    70,048   70,046   70,046   70,048   71,048  \n",
       "\n",
       "[5 rows x 29 columns]"
      ]
     },
     "execution_count": 12,
     "metadata": {},
     "output_type": "execute_result"
    }
   ],
   "source": [
    "df.head()"
   ]
  }
 ],
 "metadata": {
  "kernelspec": {
   "display_name": "Python 3 (ipykernel)",
   "language": "python",
   "name": "python3"
  },
  "language_info": {
   "codemirror_mode": {
    "name": "ipython",
    "version": 3
   },
   "file_extension": ".py",
   "mimetype": "text/x-python",
   "name": "python",
   "nbconvert_exporter": "python",
   "pygments_lexer": "ipython3",
   "version": "3.9.7"
  }
 },
 "nbformat": 4,
 "nbformat_minor": 5
}
